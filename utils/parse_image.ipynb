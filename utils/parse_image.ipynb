{
 "cells": [
  {
   "cell_type": "code",
   "execution_count": 3,
   "id": "216b6d89",
   "metadata": {},
   "outputs": [],
   "source": [
    "import numpy as np\n",
    "import os\n",
    "from matplotlib import pyplot as plt\n",
    "from PIL import Image, ImageOps, ImageEnhance\n",
    "from sklearn.model_selection import train_test_split\n",
    "from tqdm import tqdm\n",
    "import pandas as pd\n",
    "from torchvision import transforms\n",
    "import torch"
   ]
  },
  {
   "cell_type": "code",
   "execution_count": 4,
   "id": "66e95f4d",
   "metadata": {},
   "outputs": [],
   "source": [
    "path = '.'"
   ]
  },
  {
   "cell_type": "code",
   "execution_count": 5,
   "id": "f0b55117",
   "metadata": {},
   "outputs": [],
   "source": [
    "device = \"cuda:0\" if torch.cuda.is_available() else \"cpu\""
   ]
  },
  {
   "cell_type": "code",
   "execution_count": 6,
   "id": "c4f5e8f6",
   "metadata": {},
   "outputs": [],
   "source": [
    "opt = {\n",
    "    'image_size': 234,\n",
    "    'is_grayscale': False,\n",
    "}"
   ]
  },
  {
   "cell_type": "code",
   "execution_count": 7,
   "id": "57d3f5c5",
   "metadata": {},
   "outputs": [],
   "source": [
    "def load_image(path):\n",
    "    # Opening image\n",
    "    im = Image.open(path).convert('L' if opt['is_grayscale'] else 'RGB')\n",
    "    \n",
    "    ratio = float(224) / max(im.size)\n",
    "    ns = tuple([int(x * ratio) for x in im.size])\n",
    "    im = im.resize(ns, Image.BICUBIC)\n",
    "    ni = Image.new(\"L\", (224, 224), \"white\")\n",
    "    ni.paste(im, ((224 - ns[0]) // 2,\n",
    "                        (224 - ns[1]) // 2))\n",
    "    ni = ImageOps.expand(ni, int(np.random.randint(5, 25, size=1)), \"white\")\n",
    "    im = ni\n",
    "  \n",
    "    # Enhancing image\n",
    "    im = ImageEnhance.Contrast(ImageOps.autocontrast(im)).enhance(2.0)\n",
    "    # Contrast adjustment\n",
    "    im = ImageOps.autocontrast(im)\n",
    "    im = im.resize((opt['image_size'],opt['image_size']))\n",
    "    im = transforms.ToTensor()(im)\n",
    "    return im"
   ]
  },
  {
   "cell_type": "code",
   "execution_count": 8,
   "id": "3b261c14",
   "metadata": {},
   "outputs": [
    {
     "name": "stderr",
     "output_type": "stream",
     "text": [
      "100%|█████████████████████████████████| 75233/75233 [00:00<00:00, 645733.76it/s]\n"
     ]
    }
   ],
   "source": [
    "indices = range(len(os.listdir('train_images')))\n",
    "image_list = []\n",
    "for i in tqdm(indices):\n",
    "    image_list.append(os.path.join('train_images',\"{}.png\".format(i)))"
   ]
  },
  {
   "cell_type": "code",
   "execution_count": 9,
   "id": "18194c7b",
   "metadata": {},
   "outputs": [
    {
     "name": "stderr",
     "output_type": "stream",
     "text": [
      "100%|████████████████████████████████████| 75233/75233 [04:44<00:00, 264.50it/s]\n"
     ]
    }
   ],
   "source": [
    "images = torch.cat([torch.unsqueeze(load_image(image), 0) for image in tqdm(image_list)], dim=0)"
   ]
  },
  {
   "cell_type": "code",
   "execution_count": 10,
   "id": "00a1a715",
   "metadata": {},
   "outputs": [],
   "source": [
    "torch.save(images, 'tensor.pt')"
   ]
  },
  {
   "cell_type": "code",
   "execution_count": 12,
   "id": "41583104",
   "metadata": {
    "scrolled": true
   },
   "outputs": [
    {
     "data": {
      "text/plain": [
       "(75233, 1, 234, 234)"
      ]
     },
     "execution_count": 12,
     "metadata": {},
     "output_type": "execute_result"
    }
   ],
   "source": [
    "images.numpy().shape"
   ]
  },
  {
   "cell_type": "code",
   "execution_count": null,
   "id": "cd0bd60e",
   "metadata": {},
   "outputs": [],
   "source": [
    "torch.save(images.clone(), 'tensor_clone.pt')"
   ]
  },
  {
   "cell_type": "code",
   "execution_count": null,
   "id": "4cc6fb2d",
   "metadata": {},
   "outputs": [],
   "source": []
  }
 ],
 "metadata": {
  "kernelspec": {
   "display_name": "Python 3 (ipykernel)",
   "language": "python",
   "name": "python3"
  },
  "language_info": {
   "codemirror_mode": {
    "name": "ipython",
    "version": 3
   },
   "file_extension": ".py",
   "mimetype": "text/x-python",
   "name": "python",
   "nbconvert_exporter": "python",
   "pygments_lexer": "ipython3",
   "version": "3.8.13"
  }
 },
 "nbformat": 4,
 "nbformat_minor": 5
}
