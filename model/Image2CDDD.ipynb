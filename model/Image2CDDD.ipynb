{
  "nbformat": 4,
  "nbformat_minor": 0,
  "metadata": {
    "colab": {
      "name": "Image2CDDD.ipynb",
      "provenance": [],
      "collapsed_sections": []
    },
    "kernelspec": {
      "name": "python3",
      "display_name": "Python 3"
    },
    "language_info": {
      "name": "python"
    },
    "accelerator": "GPU"
  },
  "cells": [
    {
      "cell_type": "code",
      "execution_count": null,
      "metadata": {
        "id": "DTuJatxBA-GJ"
      },
      "outputs": [],
      "source": [
        "import torch\n",
        "import torch.nn as nn\n",
        "import numpy as np\n",
        "import os\n",
        "from torchvision import transforms\n",
        "from matplotlib import pyplot as plt\n",
        "from PIL import Image, ImageOps, ImageEnhance\n",
        "from sklearn.model_selection import train_test_split\n",
        "from tqdm import tqdm\n",
        "import tensorflow as tf\n",
        "import gc"
      ]
    },
    {
      "cell_type": "code",
      "source": [
        "from google.colab import drive\n",
        "drive.mount('/content/drive')"
      ],
      "metadata": {
        "colab": {
          "base_uri": "https://localhost:8080/"
        },
        "id": "H5XqJmxTDYJY",
        "outputId": "ad0a44b1-caf4-4718-c923-2527dd3ee597"
      },
      "execution_count": null,
      "outputs": [
        {
          "output_type": "stream",
          "name": "stdout",
          "text": [
            "Mounted at /content/drive\n"
          ]
        }
      ]
    },
    {
      "cell_type": "code",
      "source": [
        "device = \"cuda:0\" if torch.cuda.is_available() else \"cpu\""
      ],
      "metadata": {
        "id": "t6vw_XdqP550"
      },
      "execution_count": null,
      "outputs": []
    },
    {
      "cell_type": "code",
      "source": [
        "opt = {\n",
        "    'image_size': 234,\n",
        "    'is_grayscale': False,\n",
        "}"
      ],
      "metadata": {
        "id": "UdB5I0uCA73v"
      },
      "execution_count": null,
      "outputs": []
    },
    {
      "cell_type": "code",
      "source": [
        "def load_image(path):\n",
        "    # Opening image\n",
        "    im = Image.open(path).convert('L' if opt['is_grayscale'] else 'RGB')\n",
        "    # Enhancing image\n",
        "    im = ImageEnhance.Contrast(ImageOps.autocontrast(im)).enhance(2.0)\n",
        "    # Contrast adjustment\n",
        "    im = ImageOps.autocontrast(im)\n",
        "    im = im.resize((opt['image_size'],opt['image_size']))\n",
        "    im = np.array(im)\n",
        "    # im = im/256\n",
        "    im = transforms.ToTensor()(im)\n",
        "    return im"
      ],
      "metadata": {
        "id": "BdqjGnfvA191"
      },
      "execution_count": null,
      "outputs": []
    },
    {
      "cell_type": "code",
      "source": [
        "def imshow(img):\n",
        "    npimg = img.numpy()\n",
        "    plt.figure(figsize=(5,5))\n",
        "    plt.imshow(np.transpose(npimg, (1, 2, 0)))\n",
        "    plt.show()"
      ],
      "metadata": {
        "id": "tbsZDZEvEjXr"
      },
      "execution_count": null,
      "outputs": []
    },
    {
      "cell_type": "code",
      "source": [
        "dir_path = '/content/drive/MyDrive/SMAI_Project/train_images'\n",
        "files = sorted(os.listdir(dir_path))\n",
        "files = files[:1000]"
      ],
      "metadata": {
        "id": "WF4MYRjUkopq"
      },
      "execution_count": null,
      "outputs": []
    },
    {
      "cell_type": "code",
      "source": [
        "image_list = []\n",
        "for filename in tqdm(files):\n",
        "    if filename.endswith(\".png\"):\n",
        "      image_list.append(os.path.join(dir_path,filename))"
      ],
      "metadata": {
        "id": "BALiRFdcC1JH",
        "colab": {
          "base_uri": "https://localhost:8080/"
        },
        "outputId": "89a3a27f-4a82-469a-8107-a3610f48152d"
      },
      "execution_count": null,
      "outputs": [
        {
          "output_type": "stream",
          "name": "stderr",
          "text": [
            "100%|██████████| 1000/1000 [00:00<00:00, 84535.31it/s]\n"
          ]
        }
      ]
    },
    {
      "cell_type": "code",
      "source": [
        "images = torch.cat([torch.unsqueeze(load_image(image), 0) for image in tqdm(image_list)], dim=0)"
      ],
      "metadata": {
        "id": "azxgBf0cIKlY",
        "colab": {
          "base_uri": "https://localhost:8080/"
        },
        "outputId": "2481fa7f-e05c-4e7f-f6c5-4ef930c07c77"
      },
      "execution_count": null,
      "outputs": [
        {
          "output_type": "stream",
          "name": "stderr",
          "text": [
            "100%|██████████| 1000/1000 [04:05<00:00,  4.08it/s]\n"
          ]
        }
      ]
    },
    {
      "cell_type": "code",
      "source": [
        "images.shape"
      ],
      "metadata": {
        "colab": {
          "base_uri": "https://localhost:8080/"
        },
        "id": "sVAu1N8FIQMc",
        "outputId": "0572e985-52df-4dd2-d651-c39ea053258b"
      },
      "execution_count": null,
      "outputs": [
        {
          "output_type": "execute_result",
          "data": {
            "text/plain": [
              "torch.Size([1000, 3, 234, 234])"
            ]
          },
          "metadata": {},
          "execution_count": 11
        }
      ]
    },
    {
      "cell_type": "code",
      "source": [
        "print(\"Sample images\")\n",
        "imshow(images[0])\n",
        "imshow(images[5])"
      ],
      "metadata": {
        "colab": {
          "base_uri": "https://localhost:8080/",
          "height": 647
        },
        "id": "6IXylxDHEsIo",
        "outputId": "1fc98636-6862-473d-cada-3edde31454c7"
      },
      "execution_count": null,
      "outputs": [
        {
          "output_type": "stream",
          "name": "stdout",
          "text": [
            "Sample images\n"
          ]
        },
        {
          "output_type": "display_data",
          "data": {
            "text/plain": [
              "<Figure size 360x360 with 1 Axes>"
            ],
            "image/png": "[encoded data removed]"
          },
          "metadata": {
            "needs_background": "light"
          }
        },
        {
          "output_type": "display_data",
          "data": {
            "text/plain": [
              "<Figure size 360x360 with 1 Axes>"
            ],
            "image/png": "[encoded data removed]"
          },
          "metadata": {
            "needs_background": "light"
          }
        }
      ]
    },
    {
      "cell_type": "code",
      "source": [
        "!pip install pytorch_lightning"
      ],
      "metadata": {
        "colab": {
          "base_uri": "https://localhost:8080/"
        },
        "id": "Vztf1sd2o1kL",
        "outputId": "6cdcacec-7b7b-4962-be50-38837a10dce0"
      },
      "execution_count": null,
      "outputs": [
        {
          "output_type": "stream",
          "name": "stdout",
          "text": [
            "Collecting pytorch_lightning\n",
            "  Downloading pytorch_lightning-1.6.1-py3-none-any.whl (582 kB)\n",
            "\u001b[?25l\r\u001b[K     |▋                               | 10 kB 18.5 MB/s eta 0:00:01\r\u001b[K     |█▏                              | 20 kB 11.8 MB/s eta 0:00:01\r\u001b[K     |█▊                              | 30 kB 9.2 MB/s eta 0:00:01\r\u001b[K     |██▎                             | 40 kB 8.6 MB/s eta 0:00:01\r\u001b[K     |██▉                             | 51 kB 4.6 MB/s eta 0:00:01\r\u001b[K     |███▍                            | 61 kB 5.4 MB/s eta 0:00:01\r\u001b[K     |████                            | 71 kB 5.5 MB/s eta 0:00:01\r\u001b[K     |████▌                           | 81 kB 4.3 MB/s eta 0:00:01\r\u001b[K     |█████                           | 92 kB 4.8 MB/s eta 0:00:01\r\u001b[K     |█████▋                          | 102 kB 5.2 MB/s eta 0:00:01\r\u001b[K     |██████▏                         | 112 kB 5.2 MB/s eta 0:00:01\r\u001b[K     |██████▊                         | 122 kB 5.2 MB/s eta 0:00:01\r\u001b[K     |███████▎                        | 133 kB 5.2 MB/s eta 0:00:01\r\u001b[K     |███████▉                        | 143 kB 5.2 MB/s eta 0:00:01\r\u001b[K     |████████▍                       | 153 kB 5.2 MB/s eta 0:00:01\r\u001b[K     |█████████                       | 163 kB 5.2 MB/s eta 0:00:01\r\u001b[K     |█████████▋                      | 174 kB 5.2 MB/s eta 0:00:01\r\u001b[K     |██████████▏                     | 184 kB 5.2 MB/s eta 0:00:01\r\u001b[K     |██████████▊                     | 194 kB 5.2 MB/s eta 0:00:01\r\u001b[K     |███████████▎                    | 204 kB 5.2 MB/s eta 0:00:01\r\u001b[K     |███████████▉                    | 215 kB 5.2 MB/s eta 0:00:01\r\u001b[K     |████████████▍                   | 225 kB 5.2 MB/s eta 0:00:01\r\u001b[K     |█████████████                   | 235 kB 5.2 MB/s eta 0:00:01\r\u001b[K     |█████████████▌                  | 245 kB 5.2 MB/s eta 0:00:01\r\u001b[K     |██████████████                  | 256 kB 5.2 MB/s eta 0:00:01\r\u001b[K     |██████████████▋                 | 266 kB 5.2 MB/s eta 0:00:01\r\u001b[K     |███████████████▏                | 276 kB 5.2 MB/s eta 0:00:01\r\u001b[K     |███████████████▊                | 286 kB 5.2 MB/s eta 0:00:01\r\u001b[K     |████████████████▎               | 296 kB 5.2 MB/s eta 0:00:01\r\u001b[K     |████████████████▉               | 307 kB 5.2 MB/s eta 0:00:01\r\u001b[K     |█████████████████▍              | 317 kB 5.2 MB/s eta 0:00:01\r\u001b[K     |██████████████████              | 327 kB 5.2 MB/s eta 0:00:01\r\u001b[K     |██████████████████▋             | 337 kB 5.2 MB/s eta 0:00:01\r\u001b[K     |███████████████████▏            | 348 kB 5.2 MB/s eta 0:00:01\r\u001b[K     |███████████████████▊            | 358 kB 5.2 MB/s eta 0:00:01\r\u001b[K     |████████████████████▎           | 368 kB 5.2 MB/s eta 0:00:01\r\u001b[K     |████████████████████▉           | 378 kB 5.2 MB/s eta 0:00:01\r\u001b[K     |█████████████████████▍          | 389 kB 5.2 MB/s eta 0:00:01\r\u001b[K     |██████████████████████          | 399 kB 5.2 MB/s eta 0:00:01\r\u001b[K     |██████████████████████▌         | 409 kB 5.2 MB/s eta 0:00:01\r\u001b[K     |███████████████████████         | 419 kB 5.2 MB/s eta 0:00:01\r\u001b[K     |███████████████████████▋        | 430 kB 5.2 MB/s eta 0:00:01\r\u001b[K     |████████████████████████▏       | 440 kB 5.2 MB/s eta 0:00:01\r\u001b[K     |████████████████████████▊       | 450 kB 5.2 MB/s eta 0:00:01\r\u001b[K     |█████████████████████████▎      | 460 kB 5.2 MB/s eta 0:00:01\r\u001b[K     |█████████████████████████▉      | 471 kB 5.2 MB/s eta 0:00:01\r\u001b[K     |██████████████████████████▍     | 481 kB 5.2 MB/s eta 0:00:01\r\u001b[K     |███████████████████████████     | 491 kB 5.2 MB/s eta 0:00:01\r\u001b[K     |███████████████████████████▋    | 501 kB 5.2 MB/s eta 0:00:01\r\u001b[K     |████████████████████████████▏   | 512 kB 5.2 MB/s eta 0:00:01\r\u001b[K     |████████████████████████████▊   | 522 kB 5.2 MB/s eta 0:00:01\r\u001b[K     |█████████████████████████████▎  | 532 kB 5.2 MB/s eta 0:00:01\r\u001b[K     |█████████████████████████████▉  | 542 kB 5.2 MB/s eta 0:00:01\r\u001b[K     |██████████████████████████████▍ | 552 kB 5.2 MB/s eta 0:00:01\r\u001b[K     |███████████████████████████████ | 563 kB 5.2 MB/s eta 0:00:01\r\u001b[K     |███████████████████████████████▌| 573 kB 5.2 MB/s eta 0:00:01\r\u001b[K     |████████████████████████████████| 582 kB 5.2 MB/s \n",
            "\u001b[?25hRequirement already satisfied: tensorboard>=2.2.0 in /usr/local/lib/python3.7/dist-packages (from pytorch_lightning) (2.8.0)\n",
            "Requirement already satisfied: numpy>=1.17.2 in /usr/local/lib/python3.7/dist-packages (from pytorch_lightning) (1.21.6)\n",
            "Requirement already satisfied: typing-extensions>=4.0.0 in /usr/local/lib/python3.7/dist-packages (from pytorch_lightning) (4.1.1)\n",
            "Collecting pyDeprecate<0.4.0,>=0.3.1\n",
            "  Downloading pyDeprecate-0.3.2-py3-none-any.whl (10 kB)\n",
            "Collecting PyYAML>=5.4\n",
            "  Downloading PyYAML-6.0-cp37-cp37m-manylinux_2_5_x86_64.manylinux1_x86_64.manylinux_2_12_x86_64.manylinux2010_x86_64.whl (596 kB)\n",
            "\u001b[K     |████████████████████████████████| 596 kB 44.1 MB/s \n",
            "\u001b[?25hRequirement already satisfied: torch>=1.8.* in /usr/local/lib/python3.7/dist-packages (from pytorch_lightning) (1.10.0+cu111)\n",
            "Collecting fsspec[http]!=2021.06.0,>=2021.05.0\n",
            "  Downloading fsspec-2022.3.0-py3-none-any.whl (136 kB)\n",
            "\u001b[K     |████████████████████████████████| 136 kB 51.3 MB/s \n",
            "\u001b[?25hCollecting torchmetrics>=0.4.1\n",
            "  Downloading torchmetrics-0.8.0-py3-none-any.whl (408 kB)\n",
            "\u001b[K     |████████████████████████████████| 408 kB 47.2 MB/s \n",
            "\u001b[?25hRequirement already satisfied: tqdm>=4.41.0 in /usr/local/lib/python3.7/dist-packages (from pytorch_lightning) (4.64.0)\n",
            "Requirement already satisfied: packaging>=17.0 in /usr/local/lib/python3.7/dist-packages (from pytorch_lightning) (21.3)\n",
            "Collecting aiohttp\n",
            "  Downloading aiohttp-3.8.1-cp37-cp37m-manylinux_2_5_x86_64.manylinux1_x86_64.manylinux_2_12_x86_64.manylinux2010_x86_64.whl (1.1 MB)\n",
            "\u001b[K     |████████████████████████████████| 1.1 MB 35.9 MB/s \n",
            "\u001b[?25hRequirement already satisfied: requests in /usr/local/lib/python3.7/dist-packages (from fsspec[http]!=2021.06.0,>=2021.05.0->pytorch_lightning) (2.23.0)\n",
            "Requirement already satisfied: pyparsing!=3.0.5,>=2.0.2 in /usr/local/lib/python3.7/dist-packages (from packaging>=17.0->pytorch_lightning) (3.0.8)\n",
            "Requirement already satisfied: setuptools>=41.0.0 in /usr/local/lib/python3.7/dist-packages (from tensorboard>=2.2.0->pytorch_lightning) (57.4.0)\n",
            "Requirement already satisfied: werkzeug>=0.11.15 in /usr/local/lib/python3.7/dist-packages (from tensorboard>=2.2.0->pytorch_lightning) (1.0.1)\n",
            "Requirement already satisfied: wheel>=0.26 in /usr/local/lib/python3.7/dist-packages (from tensorboard>=2.2.0->pytorch_lightning) (0.37.1)\n",
            "Requirement already satisfied: tensorboard-data-server<0.7.0,>=0.6.0 in /usr/local/lib/python3.7/dist-packages (from tensorboard>=2.2.0->pytorch_lightning) (0.6.1)\n",
            "Requirement already satisfied: absl-py>=0.4 in /usr/local/lib/python3.7/dist-packages (from tensorboard>=2.2.0->pytorch_lightning) (1.0.0)\n",
            "Requirement already satisfied: google-auth-oauthlib<0.5,>=0.4.1 in /usr/local/lib/python3.7/dist-packages (from tensorboard>=2.2.0->pytorch_lightning) (0.4.6)\n",
            "Requirement already satisfied: protobuf>=3.6.0 in /usr/local/lib/python3.7/dist-packages (from tensorboard>=2.2.0->pytorch_lightning) (3.17.3)\n",
            "Requirement already satisfied: tensorboard-plugin-wit>=1.6.0 in /usr/local/lib/python3.7/dist-packages (from tensorboard>=2.2.0->pytorch_lightning) (1.8.1)\n",
            "Requirement already satisfied: grpcio>=1.24.3 in /usr/local/lib/python3.7/dist-packages (from tensorboard>=2.2.0->pytorch_lightning) (1.44.0)\n",
            "Requirement already satisfied: google-auth<3,>=1.6.3 in /usr/local/lib/python3.7/dist-packages (from tensorboard>=2.2.0->pytorch_lightning) (1.35.0)\n",
            "Requirement already satisfied: markdown>=2.6.8 in /usr/local/lib/python3.7/dist-packages (from tensorboard>=2.2.0->pytorch_lightning) (3.3.6)\n",
            "Requirement already satisfied: six in /usr/local/lib/python3.7/dist-packages (from absl-py>=0.4->tensorboard>=2.2.0->pytorch_lightning) (1.15.0)\n",
            "Requirement already satisfied: rsa<5,>=3.1.4 in /usr/local/lib/python3.7/dist-packages (from google-auth<3,>=1.6.3->tensorboard>=2.2.0->pytorch_lightning) (4.8)\n",
            "Requirement already satisfied: pyasn1-modules>=0.2.1 in /usr/local/lib/python3.7/dist-packages (from google-auth<3,>=1.6.3->tensorboard>=2.2.0->pytorch_lightning) (0.2.8)\n",
            "Requirement already satisfied: cachetools<5.0,>=2.0.0 in /usr/local/lib/python3.7/dist-packages (from google-auth<3,>=1.6.3->tensorboard>=2.2.0->pytorch_lightning) (4.2.4)\n",
            "Requirement already satisfied: requests-oauthlib>=0.7.0 in /usr/local/lib/python3.7/dist-packages (from google-auth-oauthlib<0.5,>=0.4.1->tensorboard>=2.2.0->pytorch_lightning) (1.3.1)\n",
            "Requirement already satisfied: importlib-metadata>=4.4 in /usr/local/lib/python3.7/dist-packages (from markdown>=2.6.8->tensorboard>=2.2.0->pytorch_lightning) (4.11.3)\n",
            "Requirement already satisfied: zipp>=0.5 in /usr/local/lib/python3.7/dist-packages (from importlib-metadata>=4.4->markdown>=2.6.8->tensorboard>=2.2.0->pytorch_lightning) (3.8.0)\n",
            "Requirement already satisfied: pyasn1<0.5.0,>=0.4.6 in /usr/local/lib/python3.7/dist-packages (from pyasn1-modules>=0.2.1->google-auth<3,>=1.6.3->tensorboard>=2.2.0->pytorch_lightning) (0.4.8)\n",
            "Requirement already satisfied: certifi>=2017.4.17 in /usr/local/lib/python3.7/dist-packages (from requests->fsspec[http]!=2021.06.0,>=2021.05.0->pytorch_lightning) (2021.10.8)\n",
            "Requirement already satisfied: urllib3!=1.25.0,!=1.25.1,<1.26,>=1.21.1 in /usr/local/lib/python3.7/dist-packages (from requests->fsspec[http]!=2021.06.0,>=2021.05.0->pytorch_lightning) (1.24.3)\n",
            "Requirement already satisfied: idna<3,>=2.5 in /usr/local/lib/python3.7/dist-packages (from requests->fsspec[http]!=2021.06.0,>=2021.05.0->pytorch_lightning) (2.10)\n",
            "Requirement already satisfied: chardet<4,>=3.0.2 in /usr/local/lib/python3.7/dist-packages (from requests->fsspec[http]!=2021.06.0,>=2021.05.0->pytorch_lightning) (3.0.4)\n",
            "Requirement already satisfied: oauthlib>=3.0.0 in /usr/local/lib/python3.7/dist-packages (from requests-oauthlib>=0.7.0->google-auth-oauthlib<0.5,>=0.4.1->tensorboard>=2.2.0->pytorch_lightning) (3.2.0)\n",
            "Requirement already satisfied: charset-normalizer<3.0,>=2.0 in /usr/local/lib/python3.7/dist-packages (from aiohttp->fsspec[http]!=2021.06.0,>=2021.05.0->pytorch_lightning) (2.0.12)\n",
            "Requirement already satisfied: attrs>=17.3.0 in /usr/local/lib/python3.7/dist-packages (from aiohttp->fsspec[http]!=2021.06.0,>=2021.05.0->pytorch_lightning) (21.4.0)\n",
            "Collecting yarl<2.0,>=1.0\n",
            "  Downloading yarl-1.7.2-cp37-cp37m-manylinux_2_5_x86_64.manylinux1_x86_64.manylinux_2_12_x86_64.manylinux2010_x86_64.whl (271 kB)\n",
            "\u001b[K     |████████████████████████████████| 271 kB 48.3 MB/s \n",
            "\u001b[?25hCollecting frozenlist>=1.1.1\n",
            "  Downloading frozenlist-1.3.0-cp37-cp37m-manylinux_2_5_x86_64.manylinux1_x86_64.manylinux_2_17_x86_64.manylinux2014_x86_64.whl (144 kB)\n",
            "\u001b[K     |████████████████████████████████| 144 kB 50.6 MB/s \n",
            "\u001b[?25hCollecting asynctest==0.13.0\n",
            "  Downloading asynctest-0.13.0-py3-none-any.whl (26 kB)\n",
            "Collecting aiosignal>=1.1.2\n",
            "  Downloading aiosignal-1.2.0-py3-none-any.whl (8.2 kB)\n",
            "Collecting multidict<7.0,>=4.5\n",
            "  Downloading multidict-6.0.2-cp37-cp37m-manylinux_2_17_x86_64.manylinux2014_x86_64.whl (94 kB)\n",
            "\u001b[K     |████████████████████████████████| 94 kB 3.7 MB/s \n",
            "\u001b[?25hCollecting async-timeout<5.0,>=4.0.0a3\n",
            "  Downloading async_timeout-4.0.2-py3-none-any.whl (5.8 kB)\n",
            "Installing collected packages: multidict, frozenlist, yarl, asynctest, async-timeout, aiosignal, pyDeprecate, fsspec, aiohttp, torchmetrics, PyYAML, pytorch-lightning\n",
            "  Attempting uninstall: PyYAML\n",
            "    Found existing installation: PyYAML 3.13\n",
            "    Uninstalling PyYAML-3.13:\n",
            "      Successfully uninstalled PyYAML-3.13\n",
            "Successfully installed PyYAML-6.0 aiohttp-3.8.1 aiosignal-1.2.0 async-timeout-4.0.2 asynctest-0.13.0 frozenlist-1.3.0 fsspec-2022.3.0 multidict-6.0.2 pyDeprecate-0.3.2 pytorch-lightning-1.6.1 torchmetrics-0.8.0 yarl-1.7.2\n"
          ]
        }
      ]
    },
    {
      "cell_type": "code",
      "source": [
        "import pytorch_lightning as pl\n",
        "class Image2CDDD(pl.LightningModule):\n",
        "    def __init__(self):\n",
        "        super(Image2CDDD, self).__init__()\n",
        "        # Input size: [batch, 3, 500, 500]\n",
        "\n",
        "        self.network = nn.Sequential(\n",
        "            nn.Conv2d(3, 128, kernel_size = 7, stride=3, padding = 4),\n",
        "            nn.ReLU(inplace=True),\n",
        "            nn.Conv2d(128, 256, kernel_size = 5, stride=1, padding = 1),\n",
        "            nn.ReLU(inplace=True),\n",
        "            nn.Conv2d(256, 384, kernel_size = 5, stride=1, padding = 1),\n",
        "            nn.ReLU(inplace=True),\n",
        "            nn.MaxPool2d(2, stride=2),\n",
        "\n",
        "            nn.Conv2d(384, 384, kernel_size = 3, stride=1, padding = 1),\n",
        "            nn.ReLU(inplace=True),\n",
        "            nn.Conv2d(384, 384, kernel_size = 3, stride=1, padding = 1),\n",
        "            nn.ReLU(inplace=True),\n",
        "            nn.MaxPool2d(2, stride=2),\n",
        "\n",
        "            nn.Conv2d(384, 512, kernel_size = 3, stride=1, padding = 1),\n",
        "            nn.ReLU(inplace=True),\n",
        "            nn.Conv2d(512, 512, kernel_size = 3, stride=1, padding = 1),\n",
        "            nn.ReLU(inplace=True),\n",
        "            nn.Conv2d(512, 512, kernel_size = 3, stride=1, padding = 1),\n",
        "            nn.ReLU(inplace=True),\n",
        "            nn.MaxPool2d(2, stride=2),\n",
        "\n",
        "            nn.Flatten(),\n",
        "\n",
        "            nn.Linear(512*9*9, 4096),\n",
        "            nn.ReLU(True),\n",
        "            nn.Dropout(p=0.0),\n",
        "            nn.Linear(4096, 4096),\n",
        "            nn.ReLU(True),\n",
        "            nn.Dropout(p=0.0),\n",
        "            nn.Linear(4096, 512),\n",
        "            nn.Tanh(),\n",
        "        )\n",
        "\n",
        "    def forward(self, x):\n",
        "        return self.network(x)"
      ],
      "metadata": {
        "id": "hbCnkFx5BMGy"
      },
      "execution_count": null,
      "outputs": []
    },
    {
      "cell_type": "code",
      "source": [
        "model = Image2CDDD()\n",
        "model.eval()\n",
        "model.to(device)\n",
        "\n",
        "learning_rate = 1e-4\n",
        "\n",
        "criterion = nn.MSELoss()\n",
        "optimizer = torch.optim.AdamW(params=model.parameters(), lr=learning_rate)"
      ],
      "metadata": {
        "id": "rjlwd93uO8Po"
      },
      "execution_count": null,
      "outputs": []
    },
    {
      "cell_type": "code",
      "source": [
        "cddd = torch.randn(images.shape[0], 512)\n",
        "cddd.shape"
      ],
      "metadata": {
        "colab": {
          "base_uri": "https://localhost:8080/"
        },
        "id": "rc4iT1D2po99",
        "outputId": "6ae676d0-990d-4bfb-9532-5296b5db315a"
      },
      "execution_count": null,
      "outputs": [
        {
          "output_type": "execute_result",
          "data": {
            "text/plain": [
              "torch.Size([1000, 512])"
            ]
          },
          "metadata": {},
          "execution_count": 16
        }
      ]
    },
    {
      "cell_type": "code",
      "source": [
        "dataset = []\n",
        "for i in range(len(images)):\n",
        "  dataset.append([images[i], cddd[i]])\n",
        "train_size = int(0.8 * len(images))\n",
        "test_size = len(images) - train_size\n",
        "train_dataset, test_dataset = torch.utils.data.random_split(dataset, [train_size, test_size])"
      ],
      "metadata": {
        "id": "7PH7i2qDqbH3"
      },
      "execution_count": null,
      "outputs": []
    },
    {
      "cell_type": "code",
      "source": [
        "n_epochs = 10\n",
        "gc.collect()\n",
        "trainloader = torch.utils.data.DataLoader(train_dataset, batch_size=32,shuffle=True)\n",
        "\n",
        "for epoch in range(n_epochs):\n",
        "  running_loss = 0.0\n",
        "  for i, (batch_x, batch_y) in enumerate(trainloader, 0):\n",
        "    batch_x = batch_x.to(device)\n",
        "    batch_y = batch_y.to(device)\n",
        "\n",
        "    outputs = model(batch_x)\n",
        "    loss = criterion(outputs, batch_y)\n",
        "    optimizer.zero_grad()\n",
        "    loss.backward()\n",
        "    optimizer.step()\n",
        "\n",
        "    running_loss += loss.data\n",
        "    if i % 2000 == 1999:\n",
        "      print('[%d, %5d] loss: %.3f' %(epoch + 1, i + 1, running_loss / 2000))\n",
        "      running_loss = 0.0\n",
        "\t\n",
        "print('Finished Training')\n",
        "print('Saving Model...')\n",
        "torch.save(model.state_dict(), \"image2mol.pt\")"
      ],
      "metadata": {
        "colab": {
          "base_uri": "https://localhost:8080/"
        },
        "id": "6JcIl53AF0Or",
        "outputId": "532cac1c-46df-4978-ec93-b571d3c1dd22"
      },
      "execution_count": null,
      "outputs": [
        {
          "output_type": "stream",
          "name": "stdout",
          "text": [
            "Finished Training\n",
            "Saving Model...\n"
          ]
        }
      ]
    }
  ]
}